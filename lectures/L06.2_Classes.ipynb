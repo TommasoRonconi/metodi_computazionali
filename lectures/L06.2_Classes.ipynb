{
 "cells": [
  {
   "cell_type": "markdown",
   "id": "5487fefe",
   "metadata": {},
   "source": [
    "# Section 7 - Basics of OOP: Classes\n",
    "\n",
    "As the name suggests, Object-Oriented Programming or OOPs refers to languages that use objects in programming. Object-oriented programming aims to implement real-world entities like inheritance, hiding, polymorphism, etc in programming. The main aim of OOP is to bind together the data and the functions that operate on them so that no other part of the code can access this data except that function. (_Geeks For Geeks_)\n",
    "\n",
    "* To make the development and maintenance of projects more effortless. \n",
    "* To provide the feature of data hiding that is good for security concerns.  \n",
    "* We can solve real-world problems if we are using object-oriented programming. \n",
    "* It ensures code reusability. \n",
    "* It lets us write generic code: which will work with a range of data, so we don’t have to write basic stuff over and over again.\n",
    "\n",
    "| | **IS** | **HAS** | **DOES** |\n",
    "|-|--------|---------|----------|\n",
    "| **Concept**| What type of _entity_ (abstract or real) should the object describe? | What are the attributes that define such _entity_ | What actions shuold it be able to perform? |\n",
    "| **Hyper-uranium** | class definition | class attributes | class methods |\n",
    "| **Manifestation** | instance | instance attributes | instance methods |\n",
    "\n",
    "What about Python?\n",
    "\n",
    "* Basic python data types, like ``int`` and ``float``, may be used to **build more sophisticated mathematical objects**, such as complex numbers, fractions, matrices\n",
    "* Such high-level objects do have **their own behaviours and rules**: how to perform sums, multiplications, subtractions, *et cetera*\n",
    "* **A python ```class```** is a way to build high-level objects putting together the variables that define them and the functions that determine their behaviour\n"
   ]
  },
  {
   "cell_type": "markdown",
   "id": "68c40313",
   "metadata": {},
   "source": [
    "## Class\n",
    "- `class`\n",
    "- `self` (even though you can use whatever)"
   ]
  },
  {
   "cell_type": "code",
   "execution_count": null,
   "id": "fdc9edf5",
   "metadata": {},
   "outputs": [],
   "source": [
    "class Base :\n",
    "    pass"
   ]
  },
  {
   "cell_type": "code",
   "execution_count": null,
   "id": "759a888c",
   "metadata": {},
   "outputs": [],
   "source": [
    "int(3.14)"
   ]
  },
  {
   "cell_type": "code",
   "execution_count": null,
   "id": "2fcf91a7",
   "metadata": {},
   "outputs": [],
   "source": [
    "b = Base()"
   ]
  },
  {
   "cell_type": "code",
   "execution_count": null,
   "id": "4c2697e5",
   "metadata": {},
   "outputs": [],
   "source": [
    "class Point():\n",
    "    def __init__(self, x, y):\n",
    "        self.x = x\n",
    "        self.y = y\n",
    "        \n",
    "    def method_with_no_arg(self): # if you remove self --> error\n",
    "        print(\"no args!\")\n",
    "    \n",
    "    def update(self, x, y): # do I really need this?\n",
    "        self.x = x\n",
    "        self.y = y\n",
    "    \n",
    "    def print(self): # is this pythonic?\n",
    "        print(self.x, self.y)\n",
    "        \n",
    "    def equal(self, other): # is this pythonic?\n",
    "        return (self.x, self.y) == (other.x, other.y)"
   ]
  },
  {
   "cell_type": "code",
   "execution_count": null,
   "id": "eb93c8a8",
   "metadata": {},
   "outputs": [],
   "source": [
    "p = Point(1.0, 2.0)"
   ]
  },
  {
   "cell_type": "code",
   "execution_count": null,
   "id": "f043f7bb",
   "metadata": {},
   "outputs": [],
   "source": [
    "p.x, p.y"
   ]
  },
  {
   "cell_type": "markdown",
   "id": "05c61c02",
   "metadata": {},
   "source": [
    "> **NOTE THAT** the parenthesis ``class Point () :`` is optional, when it is empty or not present, the base class of your custom type will be a generic python object"
   ]
  },
  {
   "cell_type": "code",
   "execution_count": null,
   "id": "c2340545",
   "metadata": {},
   "outputs": [],
   "source": [
    "p = Point(1,2)\n",
    "print(p.x,p.y)"
   ]
  },
  {
   "cell_type": "code",
   "execution_count": null,
   "id": "38dd2659",
   "metadata": {},
   "outputs": [],
   "source": [
    "p.update(7,8)\n",
    "p.print()\n",
    "\n",
    "p.x, p.y = 0,0\n",
    "p.print()"
   ]
  },
  {
   "cell_type": "code",
   "execution_count": null,
   "id": "63df2eab",
   "metadata": {},
   "outputs": [],
   "source": [
    "p.method_with_no_arg()"
   ]
  },
  {
   "cell_type": "code",
   "execution_count": null,
   "id": "6963476e",
   "metadata": {},
   "outputs": [],
   "source": [
    "p2 = Point(1,0)\n",
    "p.equal(p2)"
   ]
  },
  {
   "cell_type": "markdown",
   "id": "08fd821c",
   "metadata": {},
   "source": [
    "## The pythonic way\n",
    "\n",
    "**Function overloading** is a basic concept of OOP: some operation that might be defined for a broad set of classes will have a specific behaviour for a particular type of object.\n",
    "\n",
    "This programming paradigm is achieved by re-defining the behaviour of the specific function for a custom class"
   ]
  },
  {
   "cell_type": "code",
   "execution_count": null,
   "id": "71ac83ad",
   "metadata": {},
   "outputs": [],
   "source": [
    "class Point():\n",
    "    '''Documention of class Point\n",
    "    \n",
    "    Parameters\n",
    "    ----------\n",
    "    x : scalar\n",
    "        x coordinate\n",
    "    y : scalar\n",
    "        y coordinate\n",
    "    '''\n",
    "    def __init__(self, x,y):\n",
    "        self.x = x\n",
    "        self.y = y\n",
    "            \n",
    "    def __str__(self):\n",
    "        \"\"\"Returns the string representation of class Point\n",
    "        \"\"\"\n",
    "        #return str((self.x,self.y))\n",
    "        return f'Point:\\nx={self.x}\\ny={self.y}'\n",
    "    \n",
    "    def __eq__(self, other):\n",
    "        #return self.x == other.x and self.y == other.y\n",
    "        return (self.x,self.y) == (other.x, other.y)\n",
    "        "
   ]
  },
  {
   "cell_type": "code",
   "execution_count": null,
   "id": "a73bda5b",
   "metadata": {},
   "outputs": [],
   "source": [
    "p = Point(3,4)\n",
    "print(p)"
   ]
  },
  {
   "cell_type": "code",
   "execution_count": null,
   "id": "8239e87d",
   "metadata": {},
   "outputs": [],
   "source": [
    "p2 = Point(4,5)\n",
    "p == p2"
   ]
  },
  {
   "cell_type": "code",
   "execution_count": null,
   "id": "3bc64e43",
   "metadata": {},
   "outputs": [],
   "source": [
    "p2.x, p2.y = 3 ,4\n",
    "p == p2"
   ]
  },
  {
   "cell_type": "code",
   "execution_count": null,
   "id": "06ea4498",
   "metadata": {},
   "outputs": [],
   "source": [
    "help(p)"
   ]
  },
  {
   "cell_type": "markdown",
   "id": "8b3e486d",
   "metadata": {},
   "source": [
    "Signatures: [here](https://www.geeksforgeeks.org/operator-overloading-in-python/)"
   ]
  },
  {
   "cell_type": "markdown",
   "id": "89847065",
   "metadata": {},
   "source": [
    "### Difference between ``__repr__`` and ``__str__``\n",
    "\n",
    "* ``__repr__`` is for the prorgrammer, the **string representation** should make it possible to re-create an object equal to the original one.\n",
    "* ``__str__`` this representation enables any user to understand the data contained in the object. Usually, it’s simpler and easier to read for a user.\n",
    "\n",
    "```python\n",
    "def __str__ (self) :\n",
    "    return f'Point:\\nx={self.x}\\ny={self.y}'\n",
    "def __repr__ (self) :\n",
    "    return f'{type(self)}({self.x}, {self.y})'\n",
    "```\n",
    "\n",
    "While ``__str__`` is redirected to the stdout by the ``print`` function, to get ``__repr__`` we should use the ``repr`` function "
   ]
  },
  {
   "cell_type": "code",
   "execution_count": null,
   "id": "d81da502",
   "metadata": {},
   "outputs": [],
   "source": [
    "class Point():\n",
    "    '''Documention of class Point'''\n",
    "    def __init__(self, x,y):\n",
    "        self.x = x\n",
    "        self.y = y\n",
    "            \n",
    "    def __str__(self):\n",
    "        return f'Point:\\nx={self.x}\\ny={self.y}'\n",
    "    \n",
    "    def __repr__ (self) :\n",
    "        return f'{type(self).__name__}({self.x}, {self.y})'\n",
    "    \n",
    "    def __eq__(self, other):\n",
    "        return (self.x,self.y) == (other.x, other.y)\n",
    "    \n",
    "    def __add__ (self, other) :\n",
    "        return type(self)(self.x + other.x, self.y + other.y)"
   ]
  },
  {
   "cell_type": "code",
   "execution_count": null,
   "id": "54a12b60",
   "metadata": {},
   "outputs": [],
   "source": [
    "p = Point(3,4)"
   ]
  },
  {
   "cell_type": "code",
   "execution_count": null,
   "id": "3a566489",
   "metadata": {},
   "outputs": [],
   "source": [
    "p2 = Point(3, 4)"
   ]
  },
  {
   "cell_type": "markdown",
   "id": "f0ac34bb",
   "metadata": {},
   "source": [
    "* overload of the equal operator:"
   ]
  },
  {
   "cell_type": "code",
   "execution_count": null,
   "id": "2d4eb658",
   "metadata": {},
   "outputs": [],
   "source": [
    "p == p2"
   ]
  },
  {
   "cell_type": "markdown",
   "id": "6ded8964",
   "metadata": {},
   "source": [
    "* overload of the **print built-in**"
   ]
  },
  {
   "cell_type": "code",
   "execution_count": null,
   "id": "f6371ec7",
   "metadata": {},
   "outputs": [],
   "source": [
    "print(p)"
   ]
  },
  {
   "cell_type": "markdown",
   "id": "05de7289",
   "metadata": {},
   "source": [
    "* overload of the **string representation**"
   ]
  },
  {
   "cell_type": "code",
   "execution_count": null,
   "id": "4845a015",
   "metadata": {},
   "outputs": [],
   "source": [
    "repr(p)"
   ]
  },
  {
   "cell_type": "markdown",
   "id": "ede3de2a",
   "metadata": {},
   "source": [
    "The ``eval`` built-in function executes a **python command** written in a string"
   ]
  },
  {
   "cell_type": "code",
   "execution_count": null,
   "id": "6f06a9df",
   "metadata": {},
   "outputs": [],
   "source": [
    "p == eval(repr(p))"
   ]
  },
  {
   "cell_type": "markdown",
   "id": "becd0ee0",
   "metadata": {},
   "source": [
    "* overload of the **addition operator**"
   ]
  },
  {
   "cell_type": "code",
   "execution_count": null,
   "id": "f9478345",
   "metadata": {},
   "outputs": [],
   "source": [
    "p1 = Point(1,2)\n",
    "p2 = Point(2,1)"
   ]
  },
  {
   "cell_type": "code",
   "execution_count": null,
   "id": "4ecb9900",
   "metadata": {},
   "outputs": [],
   "source": [
    "p3 = p1+p2"
   ]
  },
  {
   "cell_type": "code",
   "execution_count": null,
   "id": "b8f9453a",
   "metadata": {},
   "outputs": [],
   "source": [
    "print(p3)"
   ]
  },
  {
   "cell_type": "markdown",
   "id": "40450593",
   "metadata": {},
   "source": [
    "## Very little tiny basic of Inheritance:"
   ]
  },
  {
   "cell_type": "markdown",
   "id": "c9a84877",
   "metadata": {},
   "source": [
    "A **child class** is a class that inherits from some **parent class** all the methods and attributes defined for the parent\n",
    "\n",
    "> * A child of a Point **IS** still a Point, as all the Dogs are Animals but not all the Animals are Dogs\n",
    "> * A class that inherits from some other class is a **DERIVED CLASS**\n",
    "> * A class that is inherited by other classes is a **BASE CLASS**"
   ]
  },
  {
   "cell_type": "code",
   "execution_count": null,
   "id": "43643c3f",
   "metadata": {},
   "outputs": [],
   "source": [
    "class Particle ( Point ) :\n",
    "    \"\"\"Example documentation of class Particle\n",
    "    \"\"\"\n",
    "    def __init__ (self, x, y, mass = 0.0, unit = 1.0 ) :\n",
    "        super().__init__(x,y)\n",
    "        self.mass = mass\n",
    "        self._unit = unit\n",
    "        self._unitname = 'grams'\n",
    "        \n",
    "    def __str__ ( self ) :\n",
    "        \"\"\"Example documentation of instance dundler method __str__\"\"\"\n",
    "        return super().__str__() + f'\\n{self.mass*self._unit:.2f} {self._unitname}'   "
   ]
  },
  {
   "cell_type": "code",
   "execution_count": null,
   "id": "625aae8b",
   "metadata": {},
   "outputs": [],
   "source": [
    "pa = Particle(1,1,1)"
   ]
  },
  {
   "cell_type": "code",
   "execution_count": null,
   "id": "213ce74e",
   "metadata": {},
   "outputs": [],
   "source": [
    "pa2 = pa + Particle(2,1,0)"
   ]
  },
  {
   "cell_type": "code",
   "execution_count": null,
   "id": "c01b84cb",
   "metadata": {},
   "outputs": [],
   "source": [
    "print(pa)"
   ]
  },
  {
   "cell_type": "code",
   "execution_count": null,
   "id": "b9ae2bf9",
   "metadata": {},
   "outputs": [],
   "source": [
    "help(Particle.__str__)"
   ]
  },
  {
   "cell_type": "code",
   "execution_count": null,
   "id": "00e64f05",
   "metadata": {},
   "outputs": [],
   "source": [
    "pa = Particle(1, 1, 0)"
   ]
  },
  {
   "cell_type": "code",
   "execution_count": null,
   "id": "3bcda92c",
   "metadata": {},
   "outputs": [],
   "source": [
    "print(pa)"
   ]
  },
  {
   "cell_type": "markdown",
   "id": "3303f186",
   "metadata": {},
   "source": [
    "> **DO NOT** modify attributes whose name start with an underscore, that is a convention for _private variables_"
   ]
  },
  {
   "cell_type": "code",
   "execution_count": null,
   "id": "048a4318",
   "metadata": {},
   "outputs": [],
   "source": [
    "pa._unit = 123"
   ]
  },
  {
   "cell_type": "code",
   "execution_count": null,
   "id": "0e072c69",
   "metadata": {},
   "outputs": [],
   "source": [
    "print(pa)"
   ]
  },
  {
   "cell_type": "markdown",
   "id": "de064171",
   "metadata": {},
   "source": [
    "> to modify a private variable should be more difficult than a _public variable_: this to prevent behaviours not allowed.\n",
    "> we can (e.g.) implement a function in the ``Particle`` class that specifically allows to switch among different units: "
   ]
  },
  {
   "cell_type": "code",
   "execution_count": null,
   "id": "90429a97",
   "metadata": {},
   "outputs": [],
   "source": [
    "class Particle ( Point ) :\n",
    "    \"\"\"Example documentation of class Particle\n",
    "    \"\"\"\n",
    "    def __init__ (self, x, y, mass = 0.0, unit = 1.0 ) :\n",
    "        super().__init__(x,y)\n",
    "        self.mass = mass\n",
    "        self._unit = unit\n",
    "        self._unitname = 'grams'\n",
    "        \n",
    "    def __str__ ( self ) :\n",
    "        \"\"\"Example documentation of instance dundler method __str__\"\"\"\n",
    "        return super().__str__() + f'\\n{self.mass*self._unit:.2e} {self._unitname}'   \n",
    "\n",
    "    def change_unit (self, which ) :\n",
    "        if which == 'kilograms' :\n",
    "            self._unit *= 0.001\n",
    "            self._unitname = which\n",
    "        elif which == 'decigrams' :\n",
    "            self._unit *= 10\n",
    "            self._unitname = which\n",
    "        else :\n",
    "            raise RuntimeError(f'unit {which} is not defined')"
   ]
  },
  {
   "cell_type": "code",
   "execution_count": null,
   "id": "2ec4e665",
   "metadata": {},
   "outputs": [],
   "source": [
    "pa = Particle(1,1,1)"
   ]
  },
  {
   "cell_type": "code",
   "execution_count": null,
   "id": "9b928cab",
   "metadata": {},
   "outputs": [],
   "source": [
    "pa.change_unit('kilograms')\n",
    "print(pa)"
   ]
  },
  {
   "cell_type": "markdown",
   "id": "98d43f2a",
   "metadata": {},
   "source": [
    "So that we can also forbid specific units:"
   ]
  },
  {
   "cell_type": "code",
   "execution_count": null,
   "id": "3228e09e",
   "metadata": {},
   "outputs": [],
   "source": [
    "pa.change_unit('pounds')"
   ]
  },
  {
   "cell_type": "markdown",
   "id": "97e5ed6a",
   "metadata": {},
   "source": [
    "Even better, in this specific case, we could make the unit a string and implement a set of available units:"
   ]
  },
  {
   "cell_type": "code",
   "execution_count": null,
   "id": "a4dc827c",
   "metadata": {},
   "outputs": [],
   "source": [
    "class Particle ( Point ) :\n",
    "    \"\"\"Example documentation of class Particle\n",
    "    \"\"\"\n",
    "    def __init__ (self, x, y, mass = 0.0, unit = \"grams\" ) :\n",
    "        super().__init__(x,y)\n",
    "        self._units = ('decigrams', 'grams', 'kilograms') # we use a tuple for this so that it is immutable\n",
    "        self._uconv = (0.1, 1.0, 1000.0) # and here a tuple as well\n",
    "        self.mass = mass\n",
    "        # I am casting the tuple `self._units` to a set\n",
    "        # so that I can easily check whether the user request\n",
    "        # is permitted:\n",
    "        if  unit in set(self._units) :\n",
    "            self._unit = unit\n",
    "        else :\n",
    "            tstr = ''\n",
    "            for u in self._units : tstr += f'{u} ' \n",
    "            raise RuntimeError(f'unit {which} is not defined, available units are: {tstr}')\n",
    "        \n",
    "    def __str__ ( self ) :\n",
    "        \"\"\"Example documentation of instance dundler method __str__\"\"\"\n",
    "        return super().__str__() + f'\\n{self.mass:.2e} {self._unit}'   \n",
    "\n",
    "    def change_unit (self, which ) :\n",
    "        # I am casting the tuple `self._units` to a set\n",
    "        # so that I can easily check whether the user request\n",
    "        # is permitted:\n",
    "        if which in set(self._units) :\n",
    "            # this implements an automatic unit conversion by\n",
    "            # indexing the conversion list `_uconv` with the \n",
    "            # index of the current and new unit: \n",
    "            self.mass *= ( \n",
    "                self._uconv[self._units.index(self._unit)] / \n",
    "                self._uconv[self._units.index(which)] \n",
    "            )\n",
    "            # here happens the unit update\n",
    "            self._unit = which\n",
    "        else :\n",
    "            tstr = ''\n",
    "            for u in self._units : tstr += f'{u} '\n",
    "            raise RuntimeError(f'unit {which} is not defined, available units are: {tstr}')"
   ]
  },
  {
   "cell_type": "code",
   "execution_count": null,
   "id": "f04ddc7b",
   "metadata": {},
   "outputs": [],
   "source": [
    "pa = Particle(1,1,112)"
   ]
  },
  {
   "cell_type": "code",
   "execution_count": null,
   "id": "7655d89f",
   "metadata": {},
   "outputs": [],
   "source": [
    "print(pa)"
   ]
  },
  {
   "cell_type": "code",
   "execution_count": null,
   "id": "c801483f",
   "metadata": {},
   "outputs": [],
   "source": [
    "pa.change_unit('kilograms')\n",
    "print(pa)"
   ]
  },
  {
   "cell_type": "code",
   "execution_count": null,
   "id": "234681ea",
   "metadata": {},
   "outputs": [],
   "source": [
    "pa.change_unit('pounds')"
   ]
  },
  {
   "cell_type": "markdown",
   "id": "914156e2",
   "metadata": {},
   "source": [
    "## Miscellanea on inheritance: overloading of a base class method\n",
    "\n",
    "Look at how we modify the usage of the ``__add__`` function to envisage summation of the mass along with the basic bahaviour:"
   ]
  },
  {
   "cell_type": "code",
   "execution_count": null,
   "id": "2452a230",
   "metadata": {},
   "outputs": [],
   "source": [
    "class Particle ( Point ) :\n",
    "    \"\"\"Example documentation of class Particle\n",
    "    \"\"\"\n",
    "    def __init__ (self, x, y, mass = 0.0, unit = 1.0 ) :\n",
    "        super().__init__(x,y)\n",
    "        self.mass = mass\n",
    "        self._unit = unit\n",
    "        self._unitname = 'grams'\n",
    "        \n",
    "    def __str__ ( self ) :\n",
    "        \"\"\"Example documentation of instance dundler method __str__\"\"\"\n",
    "        return super().__str__() + f'\\n{self.mass*self._unit:.2e} {self._unitname}'   \n",
    "            \n",
    "    def __add__ (self, other) :\n",
    "        out = super().__add__(other)\n",
    "        out.mass = self.mass + other.mass\n",
    "        return out"
   ]
  }
 ],
 "metadata": {
  "kernelspec": {
   "display_name": "Python 3 (ipykernel)",
   "language": "python",
   "name": "python3"
  },
  "language_info": {
   "codemirror_mode": {
    "name": "ipython",
    "version": 3
   },
   "file_extension": ".py",
   "mimetype": "text/x-python",
   "name": "python",
   "nbconvert_exporter": "python",
   "pygments_lexer": "ipython3",
   "version": "3.10.13"
  }
 },
 "nbformat": 4,
 "nbformat_minor": 5
}
